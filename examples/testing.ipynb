{
 "cells": [
  {
   "cell_type": "code",
   "execution_count": 1,
   "metadata": {},
   "outputs": [],
   "source": [
    "# import external dependencies\n",
    "# ----------------------------\n",
    "\n",
    "# set the backend\n",
    "import matplotlib\n",
    "matplotlib.use('nbagg') # set plotting backend\n",
    "import matplotlib.pyplot as plt\n",
    "plt.ion()\n",
    "\n",
    "# standard packages\n",
    "import numpy as np\n",
    "import pandas as pd\n",
    "\n",
    "# propagator models\n",
    "import propagator as prop\n",
    "\n",
    "import scorr"
   ]
  },
  {
   "cell_type": "code",
   "execution_count": 282,
   "metadata": {},
   "outputs": [],
   "source": [
    "from scorr._cov_matrices_nofft import xmat3pt_nofft"
   ]
  },
  {
   "cell_type": "code",
   "execution_count": 2,
   "metadata": {},
   "outputs": [
    {
     "data": {
      "text/plain": [
       "array([  1.00000000e+00,   5.00000000e-01,   0.00000000e+00,\n",
       "         2.77555756e-17])"
      ]
     },
     "execution_count": 2,
     "metadata": {},
     "output_type": "execute_result"
    }
   ],
   "source": [
    "prop.tim1([1,0,0,0], [1,.5,0,0])"
   ]
  },
  {
   "cell_type": "code",
   "execution_count": 3,
   "metadata": {},
   "outputs": [
    {
     "data": {
      "text/plain": [
       "array([ 0.25,  0.  ,  0.  ,  0.  ])"
      ]
     },
     "execution_count": 3,
     "metadata": {},
     "output_type": "execute_result"
    }
   ],
   "source": [
    "scorr.acorr([1,0,0,0], subtract_mean=False, norm='cov')"
   ]
  },
  {
   "cell_type": "code",
   "execution_count": 4,
   "metadata": {
    "scrolled": true
   },
   "outputs": [
    {
     "data": {
      "text/plain": [
       "(array([-2, -1,  0,  1,  2]),\n",
       " array([ 0.   ,  0.   ,  0.25 ,  0.125,  0.   ]),\n",
       " array([-0.   , -0.   ,  0.   ,  0.25 ,  0.375]))"
      ]
     },
     "execution_count": 4,
     "metadata": {},
     "output_type": "execute_result"
    }
   ],
   "source": [
    "prop.response([1,.5,0,0], [1,0,0,0])"
   ]
  },
  {
   "cell_type": "code",
   "execution_count": 678,
   "metadata": {},
   "outputs": [],
   "source": [
    "s = np.array([1,-1,-1,1,-1])\n",
    "c = np.array([1,1,0,1,1],dtype=bool)\n",
    "#kc = np.array([1,.9,.8,.7,.6])\n",
    "#kn = np.array([0,.1,.1,.1,.1])\n",
    "#r  = np.array([ 1. ,  0. , -0.1, -0. ])\n",
    "maxlag = len(s) -1"
   ]
  },
  {
   "cell_type": "code",
   "execution_count": 688,
   "metadata": {},
   "outputs": [],
   "source": [
    "#steps  = 32\n",
    "#maxlag = steps\n",
    "#s = 2 * (np.random.rand(steps) > 0.5) - 1\n",
    "#c = np.random.rand(steps) > 0.5\n",
    "kc = np.ones(maxlag)\n",
    "kn = 0.1 * np.ones(maxlag)\n",
    "#kn[0] = 0"
   ]
  },
  {
   "cell_type": "code",
   "execution_count": 689,
   "metadata": {},
   "outputs": [],
   "source": [
    "r = prop.hdim2(s, c, kn, kc)"
   ]
  },
  {
   "cell_type": "code",
   "execution_count": 690,
   "metadata": {},
   "outputs": [
    {
     "data": {
      "text/plain": [
       "array([  1.00000000e+00,   1.11022302e-16,  -0.00000000e+00,\n",
       "         9.00000000e-01,  -1.10000000e+00])"
      ]
     },
     "execution_count": 690,
     "metadata": {},
     "output_type": "execute_result"
    }
   ],
   "source": [
    "r"
   ]
  },
  {
   "cell_type": "code",
   "execution_count": 691,
   "metadata": {},
   "outputs": [],
   "source": [
    "x3kw = {'nfft':2*maxlag, 'pad':maxlag, 'subtract_mean':False, 'norm':'cov'}\n",
    "Cccc = scorr.x3corr(c, s*c, s*c, **x3kw)[:maxlag,:maxlag]\n",
    "Cnnc = scorr.x3corr(c, s*(~c), s*(~c), **x3kw)[:maxlag,:maxlag]\n",
    "Ccnc = scorr.x3corr(c, s*(~c), s*(~c), **x3kw)[:maxlag,:maxlag]\n",
    "Sn   = prop.response(r, s*(~c), maxlag=maxlag, ret='s')\n",
    "Sc   = prop.response(r, s*c, maxlag=maxlag, ret='s')"
   ]
  },
  {
   "cell_type": "code",
   "execution_count": 692,
   "metadata": {},
   "outputs": [
    {
     "data": {
      "text/plain": [
       "((7,), (7,), 4)"
      ]
     },
     "execution_count": 692,
     "metadata": {},
     "output_type": "execute_result"
    }
   ],
   "source": [
    "Sn.shape, Sc.shape, maxlag"
   ]
  },
  {
   "cell_type": "code",
   "execution_count": 693,
   "metadata": {},
   "outputs": [
    {
     "data": {
      "text/plain": [
       "((4, 4), (4, 4), (4, 4))"
      ]
     },
     "execution_count": 693,
     "metadata": {},
     "output_type": "execute_result"
    }
   ],
   "source": [
    "Cccc.shape, Cnnc.shape, Ccnc.shape"
   ]
  },
  {
   "cell_type": "code",
   "execution_count": 694,
   "metadata": {},
   "outputs": [
    {
     "data": {
      "text/plain": [
       "array([[ 0.  ,  0.  , -0.  ,  0.  ],\n",
       "       [ 0.  ,  0.33,  0.  ,  0.  ],\n",
       "       [-0.  ,  0.  ,  0.25,  0.  ],\n",
       "       [ 0.  ,  0.  ,  0.  ,  0.  ]])"
      ]
     },
     "execution_count": 694,
     "metadata": {},
     "output_type": "execute_result"
    }
   ],
   "source": [
    "Ccnc.round(2)"
   ]
  },
  {
   "cell_type": "code",
   "execution_count": 695,
   "metadata": {},
   "outputs": [],
   "source": [
    "knest, kcest = prop.estimate_hdim2(\n",
    "    Cnnc, Cccc, Ccnc, Sn, Sc,\n",
    "    maxlag=maxlag\n",
    ")"
   ]
  },
  {
   "cell_type": "code",
   "execution_count": 696,
   "metadata": {},
   "outputs": [
    {
     "data": {
      "text/plain": [
       "(array([ -0.00000000e+00,   2.00000000e-02,   6.90000000e-01,\n",
       "         -5.32358713e+15]), array([-0.27, -0.4 ,  0.19,  0.76]))"
      ]
     },
     "execution_count": 696,
     "metadata": {},
     "output_type": "execute_result"
    }
   ],
   "source": [
    "knest.round(2), kcest.round(2)"
   ]
  },
  {
   "cell_type": "code",
   "execution_count": 698,
   "metadata": {},
   "outputs": [
    {
     "data": {
      "text/plain": [
       "array([ 1.,  1.,  1.,  1.])"
      ]
     },
     "execution_count": 698,
     "metadata": {},
     "output_type": "execute_result"
    }
   ],
   "source": [
    "kc"
   ]
  },
  {
   "cell_type": "code",
   "execution_count": null,
   "metadata": {},
   "outputs": [],
   "source": []
  }
 ],
 "metadata": {
  "kernelspec": {
   "display_name": "Python 2",
   "language": "python",
   "name": "python2"
  },
  "language_info": {
   "codemirror_mode": {
    "name": "ipython",
    "version": 2
   },
   "file_extension": ".py",
   "mimetype": "text/x-python",
   "name": "python",
   "nbconvert_exporter": "python",
   "pygments_lexer": "ipython2",
   "version": "2.7.14"
  }
 },
 "nbformat": 4,
 "nbformat_minor": 2
}
